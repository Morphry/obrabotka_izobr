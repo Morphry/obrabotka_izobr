{
 "cells": [
  {
   "cell_type": "code",
   "execution_count": 1,
   "metadata": {},
   "outputs": [],
   "source": [
    "# Импорт библиотек и модулей\n",
    "from colormath.color_objects import LabColor, XYZColor, HSLColor, AdobeRGBColor,  HSVColor,LCHabColor,BaseRGBColor,sRGBColor\n",
    "from colormath.color_conversions import convert_color\n",
    "from colormath.color_diff import delta_e_cie2000\n",
    "from colormath.color_diff import delta_e_cie1994"
   ]
  },
  {
   "cell_type": "code",
   "execution_count": 2,
   "metadata": {},
   "outputs": [
    {
     "data": {
      "text/plain": [
       "LabColor(lab_l=55.0,lab_a=49.0,lab_b=-46.0)"
      ]
     },
     "execution_count": 2,
     "metadata": {},
     "output_type": "execute_result"
    }
   ],
   "source": [
    "# Задаем свой цвет\n",
    "color_lab = LabColor(55, 49, -46)\n",
    "color_lab"
   ]
  },
  {
   "cell_type": "code",
   "execution_count": 3,
   "metadata": {},
   "outputs": [
    {
     "data": {
      "text/plain": [
       "LCHabColor(lch_l=55.0,lch_c=67.20863039818622,lch_h=316.80873932249204)"
      ]
     },
     "execution_count": 3,
     "metadata": {},
     "output_type": "execute_result"
    }
   ],
   "source": [
    "# LCH\n",
    "color_lch = convert_color(color_lab, LCHabColor)\n",
    "color_lch"
   ]
  },
  {
   "cell_type": "code",
   "execution_count": 4,
   "metadata": {},
   "outputs": [
    {
     "data": {
      "text/plain": [
       "(182, 96, 213)"
      ]
     },
     "execution_count": 4,
     "metadata": {},
     "output_type": "execute_result"
    }
   ],
   "source": [
    "# RGB\n",
    "color_rgb = convert_color(color_lab, sRGBColor, is_upscaled = True)\n",
    "\n",
    "\n",
    "color_rgb.get_upscaled_value_tuple()\n"
   ]
  },
  {
   "cell_type": "code",
   "execution_count": 5,
   "metadata": {},
   "outputs": [
    {
     "data": {
      "text/plain": [
       "HSVColor(hsv_h=284.2327257812438,hsv_s=0.5472272986115394,hsv_v=0.834873855220544)"
      ]
     },
     "execution_count": 5,
     "metadata": {},
     "output_type": "execute_result"
    }
   ],
   "source": [
    "# HSV\n",
    "color_hsv = convert_color(color_lab, HSVColor)\n",
    "color_hsv"
   ]
  },
  {
   "cell_type": "code",
   "execution_count": 6,
   "metadata": {},
   "outputs": [
    {
     "data": {
      "text/plain": [
       "HSLColor(hsl_h=284.2327257812438,hsl_s=0.5804285165777532,hsl_l=0.6064409729836742)"
      ]
     },
     "execution_count": 6,
     "metadata": {},
     "output_type": "execute_result"
    }
   ],
   "source": [
    "# HSL\n",
    "color_hsl = convert_color(color_lab, HSLColor)\n",
    "color_hsl"
   ]
  },
  {
   "cell_type": "code",
   "execution_count": 7,
   "metadata": {},
   "outputs": [
    {
     "name": "stdout",
     "output_type": "stream",
     "text": [
      "LCH-LAB = LabColor (lab_l:55.0000 lab_a:49.0000 lab_b:-46.0000)\n",
      "RGB-LAB = LabColor (lab_l:55.2944 lab_a:53.0172 lab_b:-45.8972)\n",
      "HSV-LAB = LabColor (lab_l:55.2944 lab_a:53.0172 lab_b:-45.8972)\n",
      "HSL-LAB = LabColor (lab_l:55.2944 lab_a:53.0172 lab_b:-45.8972)\n"
     ]
    }
   ],
   "source": [
    "# Обратный расчет\n",
    "rlch = convert_color(color_lch, LabColor)\n",
    "rrgb = convert_color(color_rgb, LabColor)\n",
    "rhsv = convert_color(color_hsv, LabColor)\n",
    "rhsl = convert_color(color_hsl, LabColor)\n",
    "print ('LCH-LAB =', rlch)\n",
    "print ('RGB-LAB =', rrgb)\n",
    "print ('HSV-LAB =', rhsv)\n",
    "print ('HSL-LAB =', rhsl)"
   ]
  },
  {
   "cell_type": "code",
   "execution_count": 20,
   "metadata": {},
   "outputs": [
    {
     "data": {
      "text/plain": [
       "3.043787695540638e-14"
      ]
     },
     "execution_count": 20,
     "metadata": {},
     "output_type": "execute_result"
    }
   ],
   "source": [
    "# E94\n",
    "E94 = delta_e_cie1994(color_lab, rlch, K_L=1, K_C=1, K_H=1, K_1=0.045, K_2=0.015)\n",
    "E94"
   ]
  },
  {
   "cell_type": "code",
   "execution_count": 9,
   "metadata": {},
   "outputs": [
    {
     "data": {
      "text/plain": [
       "1.5672359548050523"
      ]
     },
     "execution_count": 9,
     "metadata": {},
     "output_type": "execute_result"
    }
   ],
   "source": [
    "# E00\n",
    "e00 = delta_e_cie2000(color_lab, rhsv, Kl=1, Kc=1, Kh=1)\n",
    "e00"
   ]
  },
  {
   "cell_type": "code",
   "execution_count": 19,
   "metadata": {},
   "outputs": [
    {
     "name": "stdout",
     "output_type": "stream",
     "text": [
      "0.0\n",
      "4.03\n",
      "4.03\n",
      "4.03\n"
     ]
    }
   ],
   "source": [
    "col_lab = color_lab.get_value_tuple()\n",
    "col_rlch = rlch.get_value_tuple()\n",
    "col_rrgb = rrgb.get_value_tuple()\n",
    "col_rhsv = rhsv.get_value_tuple()\n",
    "col_rhsl = rhsl.get_value_tuple()\n",
    "\n",
    "\n",
    "print( round( ((col_rlch[0]-col_lab[0])**2+(col_rlch[1]-col_lab[1])**2+(col_rlch[2]-col_lab[2])**2)**0.5, 2 ) )\n",
    "print( round( ((col_rrgb[0]-col_lab[0])**2+(col_rrgb[1]-col_lab[1])**2+(col_rrgb[2]-col_lab[2])**2)**0.5, 2 ) )\n",
    "print( round( ((col_rhsv[0]-col_lab[0])**2+(col_rhsv[1]-col_lab[1])**2+(col_rhsv[2]-col_lab[2])**2)**0.5, 2 ) )\n",
    "print( round( ((col_rhsl[0]-col_lab[0])**2+(col_rhsl[1]-col_lab[1])**2+(col_rhsl[2]-col_lab[2])**2)**0.5, 2 ) )"
   ]
  },
  {
   "cell_type": "code",
   "execution_count": null,
   "metadata": {},
   "outputs": [],
   "source": []
  }
 ],
 "metadata": {
  "interpreter": {
   "hash": "aee8b7b246df8f9039afb4144a1f6fd8d2ca17a180786b69acc140d282b71a49"
  },
  "kernelspec": {
   "display_name": "Python 3 (ipykernel)",
   "language": "python",
   "name": "python3"
  },
  "language_info": {
   "codemirror_mode": {
    "name": "ipython",
    "version": 3
   },
   "file_extension": ".py",
   "mimetype": "text/x-python",
   "name": "python",
   "nbconvert_exporter": "python",
   "pygments_lexer": "ipython3",
   "version": "3.7.11"
  }
 },
 "nbformat": 4,
 "nbformat_minor": 2
}
