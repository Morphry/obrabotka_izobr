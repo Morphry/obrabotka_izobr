{
 "cells": [
  {
   "cell_type": "code",
   "execution_count": 1,
   "metadata": {},
   "outputs": [],
   "source": [
    "\n",
    "from matplotlib import pyplot as plt\n",
    "import numpy as np\n",
    "import cv2\n",
    "from skimage.exposure import histogram\n",
    "import os\n",
    "import math\n"
   ]
  },
  {
   "cell_type": "code",
   "execution_count": 14,
   "metadata": {},
   "outputs": [
    {
     "data": {
      "image/png": "[encoded data removed]",
      "text/plain": [
       "<Figure size 432x288 with 1 Axes>"
      ]
     },
     "metadata": {
      "needs_background": "light"
     },
     "output_type": "display_data"
    }
   ],
   "source": [
    "\n",
    "\n",
    "image1 = cv2.imread(\"01_black.jpg\") #Открываем изображение. \n",
    "image2 = cv2.imread(\"02_black.jpg\") #Открываем изображение.\n",
    "plt.hist(image2.ravel(), bins=255, rwidth=1.8, range=(0, 255))\n",
    "plt.savefig('l3_gist_2.jpg')\n",
    "\n",
    "plt.show()"
   ]
  },
  {
   "cell_type": "code",
   "execution_count": 3,
   "metadata": {},
   "outputs": [],
   "source": [
    "# size1 = image1.shape\n",
    "# size2 = image2.shape\n",
    "# print(size1)\n",
    "# print(size2)"
   ]
  },
  {
   "cell_type": "code",
   "execution_count": 18,
   "metadata": {},
   "outputs": [
    {
     "data": {
      "image/png": "[encoded data removed]",
      "text/plain": [
       "<Figure size 432x288 with 1 Axes>"
      ]
     },
     "metadata": {
      "needs_background": "light"
     },
     "output_type": "display_data"
    }
   ],
   "source": [
    "#нормализация гистограмм\n",
    "\n",
    "image1 = cv2.imread(\"01_black.jpg\") #Открываем изображение. \n",
    "image2 = cv2.imread(\"02_black.jpg\") #Открываем изображение.\n",
    "\n",
    "image1N = image1.copy()\n",
    "image2N = image2.copy()\n",
    "\n",
    "image1N = cv2.normalize(image1N, None, 0, 255, norm_type=cv2.NORM_MINMAX)\n",
    "image2N = cv2.normalize(image2N, None, 0, 255, norm_type=cv2.NORM_MINMAX)\n",
    "\n",
    "\n",
    "plt.hist(image2N.ravel(), bins=255, rwidth=1.8, range=(0, 255))\n",
    "plt.savefig('l3_gist_norm_2.jpg')\n",
    "cv2.imwrite('image_norm_2.jpg',image2N)\n",
    "\n",
    "\n",
    "plt.show()"
   ]
  },
  {
   "cell_type": "code",
   "execution_count": 20,
   "metadata": {},
   "outputs": [
    {
     "data": {
      "image/png": "[encoded data removed]",
      "text/plain": [
       "<Figure size 432x288 with 1 Axes>"
      ]
     },
     "metadata": {
      "needs_background": "light"
     },
     "output_type": "display_data"
    }
   ],
   "source": [
    "#Эквализация гистограмм\n",
    "\n",
    "\n",
    "image1 = cv2.imread(\"01_black.jpg\") #Открываем изображение. \n",
    "image2 = cv2.imread(\"02_black.jpg\") #Открываем изображение.\n",
    "image1Q = cv2.cvtColor(image1, cv2.COLOR_BGR2GRAY)\n",
    "image2Q = cv2.cvtColor(image2, cv2.COLOR_BGR2GRAY)\n",
    "\n",
    "image1Q = cv2.equalizeHist(image1Q)\n",
    "image2Q = cv2.equalizeHist(image2Q)\n",
    "\n",
    "\n",
    "plt.hist(image2Q.ravel(), bins=255, rwidth=1.8, range=(0, 255))\n",
    "plt.savefig('l3_gist_ekv_2.jpg')\n",
    "cv2.imwrite('image_ekv_2.jpg',image2Q)\n",
    "\n",
    "plt.show()"
   ]
  },
  {
   "cell_type": "code",
   "execution_count": 23,
   "metadata": {},
   "outputs": [
    {
     "data": {
      "image/png": "[encoded data removed]",
      "text/plain": [
       "<Figure size 432x288 with 1 Axes>"
      ]
     },
     "metadata": {
      "needs_background": "light"
     },
     "output_type": "display_data"
    }
   ],
   "source": [
    "\n",
    "image1 = cv2.imread(\"01_black.jpg\") #Открываем изображение. \n",
    "image2 = cv2.imread(\"02_black.jpg\") #Открываем изображение.\n",
    "def find_closest(A, target):\n",
    "    idx = A.searchsorted(target)\n",
    "    idx = np.clip(idx, 1, len(A) - 1)\n",
    "    left = A[idx - 1]\n",
    "    right = A[idx]\n",
    "    idx -= target - left < right - target\n",
    "    return A[idx]\n",
    "def function_prived(image, x, y):\n",
    "    # функция распределения гистограммы\n",
    "    hist, hist_centers = histogram(image)\n",
    "    img_accum = []\n",
    "    func_accum = []    \n",
    "    dict_img = {}\n",
    "    dict_func = {}\n",
    "    dict_res = {}\n",
    "    s = 0\n",
    "    for i in range(len(hist)):\n",
    "        s += hist[i]\n",
    "        img_accum.append(s)\n",
    "    for key, val in zip(hist_centers, img_accum):\n",
    "        dict_img[key] = val\n",
    "    s = 0\n",
    "    for i in range(len(y)):\n",
    "        s += y[i]\n",
    "        func_accum.append(s)\n",
    "    for key, val in zip(x, func_accum):\n",
    "        dict_func[key] = val\n",
    "    A = np.array(func_accum)\n",
    "    target = list(img_accum)\n",
    "    new_match = find_closest(A, target)\n",
    "    tmp = []\n",
    "    for i in find_closest(A, target):\n",
    "        for key, value in dict_func.items():  \n",
    "            if value == i:\n",
    "                tmp.append(key)\n",
    "    for key, value in zip(hist_centers, tmp):\n",
    "        dict_res[key] = value\n",
    "    shape_img = image.shape   \n",
    "    image_copy = image.copy()\n",
    "    image_copy = image_copy.ravel()\n",
    "    for i in range(len(image_copy)):\n",
    "        image_copy[i] = dict_res[image_copy[i]]\n",
    "    image_copy = image_copy.reshape(shape_img)   \n",
    "    return image_copy   \n",
    "\n",
    "image_1_priv = function_prived(image1, x, y)\n",
    "image_2_priv = function_prived(image2, x, y)\n",
    "plt.hist(image_1_priv.ravel(), bins=255, rwidth=1.8, range=(0, 255))\n",
    "plt.savefig('l3_gist_priv_1.jpg')\n",
    "cv2.imwrite('image_priv_1.jpg',image_1_priv)\n",
    "\n",
    "# \n",
    "plt.show()\n",
    "\n"
   ]
  },
  {
   "cell_type": "code",
   "execution_count": null,
   "metadata": {},
   "outputs": [],
   "source": []
  }
 ],
 "metadata": {
  "interpreter": {
   "hash": "a1df27bbbad40ecdaee24acfc89f0b5773272cabcb6b66c54293a258d4db6eb4"
  },
  "kernelspec": {
   "display_name": "Python 3 (ipykernel)",
   "language": "python",
   "name": "python3"
  },
  "language_info": {
   "codemirror_mode": {
    "name": "ipython",
    "version": 3
   },
   "file_extension": ".py",
   "mimetype": "text/x-python",
   "name": "python",
   "nbconvert_exporter": "python",
   "pygments_lexer": "ipython3",
   "version": "3.7.11"
  }
 },
 "nbformat": 4,
 "nbformat_minor": 2
}
