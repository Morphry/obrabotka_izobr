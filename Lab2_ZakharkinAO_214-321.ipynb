{
 "cells": [
  {
   "cell_type": "code",
   "execution_count": 2,
   "metadata": {},
   "outputs": [],
   "source": [
    "# Импорт модулей и библиотек\n",
    "import random\n",
    "from PIL import Image, ImageDraw \n",
    "from skimage.io import imread\n",
    "from skimage import io,data\n",
    "import numpy as np\n",
    "import matplotlib.pyplot as plt\n",
    "import cv2\n",
    "import math\n",
    "import imutils"
   ]
  },
  {
   "cell_type": "code",
   "execution_count": 3,
   "metadata": {},
   "outputs": [
    {
     "name": "stdout",
     "output_type": "stream",
     "text": [
      "Image 1 width = 1000\n",
      "Image 2 width = 770\n"
     ]
    }
   ],
   "source": [
    "dir = 'C:/Users/druxp/Desktop/obrab_zren/Labs/Labs/Lab2/'\n",
    "# Инициализация исходных изображений\n",
    "image = Image.open(dir+\"02.jpg\") #Открываем изображение. \n",
    "draw = ImageDraw.Draw(image) \n",
    "pix = image.load() #Выгружаем значения пикселей.\n",
    "width = image.size[0] #Определяем ширину. \n",
    "height = image.size[1] #Определяем высоту. \t\n",
    "im = cv2.imread(dir+\"01.jpg\")\n",
    "im2 = cv2.imread(dir+\"02.jpg\")\n",
    "\n",
    "print('Image 1 width = '+ str(im.shape[1])) #Определяем ширину. \n",
    "print('Image 2 width = '+ str(im2.shape[1])) #Определяем ширину. \n"
   ]
  },
  {
   "cell_type": "code",
   "execution_count": 4,
   "metadata": {},
   "outputs": [],
   "source": [
    "# Преобразование в черно-белое\n",
    "mode = 0\n",
    "if (mode == 0):\n",
    "\tfor i in range(width):\n",
    "\t\tfor j in range(height):\n",
    "\t\t\ta = pix[i, j][0]\n",
    "\t\t\tb = pix[i, j][1]\n",
    "\t\t\tc = pix[i, j][2]\n",
    "\t\t\tS = (a + b + c) // 3\n",
    "\t\t\tdraw.point((i, j), (S, S, S))\n",
    "image.save(dir+\"02_gray.jpg\", \"JPEG\")\n"
   ]
  },
  {
   "cell_type": "code",
   "execution_count": 5,
   "metadata": {},
   "outputs": [],
   "source": [
    "# Преобразования в негатив\n",
    "mode = 1\n",
    "if (mode == 1):\n",
    "\tfor i in range(width):\n",
    "\t\tfor j in range(height):\n",
    "\t\t\ta = pix[i, j][0]\n",
    "\t\t\tb = pix[i, j][1]\n",
    "\t\t\tc = pix[i, j][2]\n",
    "\t\t\tdraw.point((i, j), (255 - a , 255 - b, 255 - c))\n",
    "image.save(dir+\"02_neg.jpg\", \"JPEG\")\n"
   ]
  },
  {
   "cell_type": "code",
   "execution_count": 15,
   "metadata": {},
   "outputs": [
    {
     "data": {
      "image/png": "[encoded data removed]",
      "text/plain": [
       "<Figure size 432x288 with 1 Axes>"
      ]
     },
     "metadata": {
      "needs_background": "light"
     },
     "output_type": "display_data"
    },
    {
     "data": {
      "text/plain": [
       "True"
      ]
     },
     "execution_count": 15,
     "metadata": {},
     "output_type": "execute_result"
    }
   ],
   "source": [
    "# Прямой логарифм\n",
    "def log_plot(c):\n",
    "     x = np.arange(0, 256, 0.01)\n",
    "     y = c * np.log(1 + x)\n",
    "     plt.plot(x, y, linewidth=1)\n",
    "     plt.title(u'Log_x')\n",
    "     plt.xlim(0, 255), plt.ylim(0, 255)\n",
    "     plt.show()\n",
    "def log(c, image2):\n",
    "    output = c * np.log(1.0 + image2)\n",
    "    output = np.uint8(output + 0.5)\n",
    "    return output   \n",
    "image2 = cv2.imread(dir+'02_gray.jpg')\n",
    "log_plot(42)\n",
    "output = log(42, image2)\n",
    "cv2.imwrite (dir+'02_log_x.jpg', output)"
   ]
  },
  {
   "cell_type": "code",
   "execution_count": 16,
   "metadata": {},
   "outputs": [
    {
     "data": {
      "image/png": "[encoded data removed]",
      "text/plain": [
       "<Figure size 432x288 with 1 Axes>"
      ]
     },
     "metadata": {
      "needs_background": "light"
     },
     "output_type": "display_data"
    },
    {
     "data": {
      "text/plain": [
       "True"
      ]
     },
     "execution_count": 16,
     "metadata": {},
     "output_type": "execute_result"
    }
   ],
   "source": [
    "# Обратный логарифм\n",
    "e = 2.71\n",
    "def log_plot(c):\n",
    "     y = np.arange(0, 256, 0.01)\n",
    "     x = c * np.log(1 + y)\n",
    "     plt.plot(x, y, linewidth=1)\n",
    "     plt.title(u'Log_y')\n",
    "     plt.xlim(0, 255), plt.ylim(0, 255)\n",
    "     plt.show()\n",
    "def log(c, image2):\n",
    "    inv = np.log(1.0 + image2)\n",
    "    rev = e ** inv\n",
    "    output = c * rev\n",
    "    output = np.uint8(output + 0.5)\n",
    "    return output\n",
    "image1 = cv2.imread(dir+'02_gray.jpg')\n",
    "log_plot(42)\n",
    "output = log(42, image2)\n",
    "cv2.imwrite (dir+'02_log_y.jpg', image2)"
   ]
  },
  {
   "cell_type": "code",
   "execution_count": 8,
   "metadata": {},
   "outputs": [
    {
     "data": {
      "text/plain": [
       "True"
      ]
     },
     "execution_count": 8,
     "metadata": {},
     "output_type": "execute_result"
    }
   ],
   "source": [
    "# Преобразование степенного закона φ> 1\n",
    "image = cv2.imread(dir+'02_gray.jpg')\n",
    "gamma_img1 = np.zeros((image.shape[0], image.shape[1], 3), dtype=np.float32)\n",
    "for i in range(image.shape[0]):\n",
    "    for j in range(image.shape[1]):\n",
    "        gamma_img1[i, j, 0] = math.pow(image[i, j, 0], 2.2)\n",
    "        gamma_img1[i, j, 1] = math.pow(image[i, j, 1], 2.2)\n",
    "        gamma_img1[i, j, 2] = math.pow(image[i, j, 2], 2.2)\n",
    "cv2.normalize(gamma_img1, gamma_img1, 0, 255, cv2.NORM_MINMAX)\n",
    "gamma_img1 = cv2.convertScaleAbs(gamma_img1)\n",
    "cv2.imwrite(dir+\"02_deg_x.png\",gamma_img1 )"
   ]
  },
  {
   "cell_type": "code",
   "execution_count": 9,
   "metadata": {},
   "outputs": [
    {
     "data": {
      "text/plain": [
       "True"
      ]
     },
     "execution_count": 9,
     "metadata": {},
     "output_type": "execute_result"
    }
   ],
   "source": [
    "# Преобразование степенного закона, φ <1\n",
    "image = cv2.imread(dir+'02_gray.jpg')\n",
    "gamma_img2 = np.zeros((image.shape[0], image.shape[1], 3), dtype=np.float32)\n",
    "for i in range(image.shape[0]):\n",
    "    for j in range(image.shape[1]):\n",
    "        gamma_img2[i, j, 0] = math.pow(image[i, j, 0], 0.2)\n",
    "        gamma_img2[i, j, 1] = math.pow(image[i, j, 1], 0.2)\n",
    "        gamma_img2[i, j, 2] = math.pow(image[i, j, 2], 0.2)\n",
    "cv2.normalize(gamma_img2, gamma_img2, 0, 255, cv2.NORM_MINMAX)\n",
    "gamma_img2 = cv2.convertScaleAbs(gamma_img2)\n",
    "cv2.imwrite(dir+\"02_deg_y.png\",gamma_img2 )"
   ]
  },
  {
   "cell_type": "code",
   "execution_count": 21,
   "metadata": {},
   "outputs": [
    {
     "data": {
      "image/png": "[encoded data removed]",
      "text/plain": [
       "<Figure size 432x288 with 1 Axes>"
      ]
     },
     "metadata": {
      "needs_background": "light"
     },
     "output_type": "display_data"
    }
   ],
   "source": [
    "def gamma_plot(c, v):\n",
    "     x = np.arange(0, 256, 0.01)\n",
    "     y = c*x**v\n",
    "     plt.plot(x, y, 'g', linewidth=1)\n",
    "     plt.title(u'Deg Y')\n",
    "     plt.xlim([0, 1]), plt.ylim([0, 1])\n",
    "     plt.show()\n",
    "gamma_plot(1, 0.2)"
   ]
  },
  {
   "cell_type": "code",
   "execution_count": 23,
   "metadata": {},
   "outputs": [],
   "source": [
    "# Кусочно-линейное преобразование\n",
    "np.seterr(divide='ignore', invalid='ignore')\n",
    "image = cv2.imread(dir+'02_gray.jpg')\n",
    "gray_img = cv2.cvtColor(image, cv2.COLOR_BGR2GRAY)\n",
    "r_min, r_max = 255, 0\n",
    "for i in range(gray_img.shape[0]):\n",
    "    for j in range(gray_img.shape[1]):\n",
    "        if gray_img[i, j] > r_max:\n",
    "            r_max = gray_img[i, j]\n",
    "        if gray_img[i, j] < r_min:\n",
    "            r_min = gray_img[i, j]\n",
    "r1, s1 = r_min, 0\n",
    "r2, s2 = r_max, 255\n",
    "precewise_img = np.zeros((gray_img.shape[0], gray_img.shape[1]), dtype=np.uint8)\n",
    "k1 = s1 / r1\n",
    "k3 = (255 - s2) / (255 - r2)\n",
    "k2 = (s2 - s1) / (r2 - r1)\n",
    "for i in range(gray_img.shape[0]):\n",
    "    for j in range(gray_img.shape[1]):\n",
    "        if r1 <= gray_img[i, j] <= r2:\n",
    "            precewise_img[i, j] = k2 * (gray_img[i, j] - r1)\n",
    "        elif gray_img[i, j] < r1:\n",
    "            precewise_img[i, j] = k1 * gray_img[i, j]\n",
    "        elif gray_img[i, j] > r2:\n",
    "            precewise_img[i, j] = k3 * (gray_img[i, j] - r2)\n",
    "    cv2.imwrite(dir+\"02_sl.jpg\",precewise_img )"
   ]
  },
  {
   "cell_type": "code",
   "execution_count": 49,
   "metadata": {},
   "outputs": [
    {
     "data": {
      "image/png": "[encoded data removed]",
      "text/plain": [
       "<Figure size 432x288 with 1 Axes>"
      ]
     },
     "metadata": {
      "needs_background": "light"
     },
     "output_type": "display_data"
    },
    {
     "data": {
      "text/plain": [
       "True"
      ]
     },
     "execution_count": 49,
     "metadata": {},
     "output_type": "execute_result"
    }
   ],
   "source": [
    "\n",
    "# Вырезание уровнений \n",
    "im1 = Image.open(dir+'02.jpg')\n",
    "im2 = im1.point(lambda x: int(x/4))\n",
    "im2.save(dir+\"02_cl_d_2.jpg\")\n",
    "\n",
    "wiki_img=cv2.imread(dir+'02_cl_d_2.jpg')\n",
    "wiki_gray=cv2.cvtColor(wiki_img,cv2.COLOR_BGR2GRAY)\n",
    "wiki_equ=cv2.equalizeHist(wiki_gray)\n",
    "\n",
    "hist=cv2.calcHist([wiki_gray],[0],None,[256],[0,256])\n",
    "equ_hist=cv2.calcHist([wiki_equ],[0],None,[256],[0,256])\n",
    "fig=plt.figure()\n",
    "ax1=fig.add_subplot(1,2,1)\n",
    "x = np.arange(0,256,0.001)\n",
    "y = np.sin(x/81)*20000\n",
    "y_masked = np.ma.masked_where(y < -0.5, y)\n",
    "ax1.plot(hist)\n",
    "\n",
    "plt.show()\n",
    "cv2.imwrite(dir+\"02_cl_d.jpg\",wiki_equ )"
   ]
  },
  {
   "cell_type": "code",
   "execution_count": null,
   "metadata": {},
   "outputs": [],
   "source": []
  }
 ],
 "metadata": {
  "interpreter": {
   "hash": "bedd2aed2cb5f5319708712c3fc1eda463ae0c6d9eb1c267bff805c517331d85"
  },
  "kernelspec": {
   "display_name": "Python 3 (ipykernel)",
   "language": "python",
   "name": "python3"
  },
  "language_info": {
   "codemirror_mode": {
    "name": "ipython",
    "version": 3
   },
   "file_extension": ".py",
   "mimetype": "text/x-python",
   "name": "python",
   "nbconvert_exporter": "python",
   "pygments_lexer": "ipython3",
   "version": "3.7.11"
  }
 },
 "nbformat": 4,
 "nbformat_minor": 2
}
